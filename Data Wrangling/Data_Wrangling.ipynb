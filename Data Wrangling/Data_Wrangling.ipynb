{
  "nbformat": 4,
  "nbformat_minor": 0,
  "metadata": {
    "colab": {
      "provenance": []
    },
    "kernelspec": {
      "name": "python3",
      "display_name": "Python 3"
    },
    "language_info": {
      "name": "python"
    }
  },
  "cells": [
    {
      "cell_type": "code",
      "execution_count": 2,
      "metadata": {
        "id": "zDx1UiKvIuxk"
      },
      "outputs": [],
      "source": [
        "import requests\n",
        "def make_request(endpoint, payload=None):\n",
        " \"\"\"\n",
        " Make a request to a specific endpoint on the weather API\n",
        " passing headers and optional payload.\n",
        "\n",
        " Parameters:\n",
        " - endpoint: The endpoint of the API you want to\n",
        " make a GET request to.\n",
        " - payload: A dictionary of data to pass along\n",
        " with the request.\n",
        "\n",
        " Returns:\n",
        " Response object.\n",
        " \"\"\"\n",
        " return requests.get(\n",
        " f'https://www.ncdc.noaa.gov/cdo-web/api/v2/{endpoint}',\n",
        " headers={\n",
        " 'token': 'EsZYHMNAYEfupllWFTOyrItclNJQUwEi'\n",
        " },\n",
        " params=payload\n",
        " )"
      ]
    },
    {
      "cell_type": "code",
      "source": [
        "response = make_request('datasets', {'startdate':'2018-10-01'})\n",
        "response.status_code\n"
      ],
      "metadata": {
        "colab": {
          "base_uri": "https://localhost:8080/"
        },
        "id": "IDotc1sMLGQ5",
        "outputId": "cc4f1e70-63f3-4d1e-a9ca-8bfb9b000fd5"
      },
      "execution_count": 3,
      "outputs": [
        {
          "output_type": "execute_result",
          "data": {
            "text/plain": [
              "200"
            ]
          },
          "metadata": {},
          "execution_count": 3
        }
      ]
    },
    {
      "cell_type": "code",
      "source": [
        "response.json().keys()\n"
      ],
      "metadata": {
        "colab": {
          "base_uri": "https://localhost:8080/"
        },
        "id": "qdYzesnLMD6j",
        "outputId": "8fa18c4e-9321-4df2-bd38-f82e63eeefb4"
      },
      "execution_count": 4,
      "outputs": [
        {
          "output_type": "execute_result",
          "data": {
            "text/plain": [
              "dict_keys(['metadata', 'results'])"
            ]
          },
          "metadata": {},
          "execution_count": 4
        }
      ]
    },
    {
      "cell_type": "markdown",
      "source": [
        "The metadata of the JSON response will tell us information about the request and data we got back:\n"
      ],
      "metadata": {
        "id": "bZnFwE5FMm_Z"
      }
    },
    {
      "cell_type": "code",
      "source": [
        "response.json()['metadata']"
      ],
      "metadata": {
        "colab": {
          "base_uri": "https://localhost:8080/"
        },
        "id": "Jioq63TZMqQY",
        "outputId": "d5bf8def-9ec4-4973-e940-aa99156fb956"
      },
      "execution_count": 5,
      "outputs": [
        {
          "output_type": "execute_result",
          "data": {
            "text/plain": [
              "{'resultset': {'offset': 1, 'count': 11, 'limit': 25}}"
            ]
          },
          "metadata": {},
          "execution_count": 5
        }
      ]
    },
    {
      "cell_type": "markdown",
      "source": [
        "Figure out what data is in the result\n",
        "The results key contains the data we requested. This is a list of what would be rows in our dataframe. Each entry in the list is a dictionary, so we can look at the keys to get\n",
        "the fields:"
      ],
      "metadata": {
        "id": "x44IMrRCM1Px"
      }
    },
    {
      "cell_type": "code",
      "source": [
        " response.json()['results'][0].keys()"
      ],
      "metadata": {
        "colab": {
          "base_uri": "https://localhost:8080/"
        },
        "id": "avg9ysxOM2ls",
        "outputId": "6a2a2f73-8e04-4556-eb68-410867165fca"
      },
      "execution_count": 6,
      "outputs": [
        {
          "output_type": "execute_result",
          "data": {
            "text/plain": [
              "dict_keys(['uid', 'mindate', 'maxdate', 'name', 'datacoverage', 'id'])"
            ]
          },
          "metadata": {},
          "execution_count": 6
        }
      ]
    },
    {
      "cell_type": "markdown",
      "source": [
        "Take and parse the results since we only want Id and Name from data"
      ],
      "metadata": {
        "id": "b87UgziiNZI8"
      }
    },
    {
      "cell_type": "code",
      "source": [
        "#All the results\n",
        "response.json()['results']"
      ],
      "metadata": {
        "colab": {
          "base_uri": "https://localhost:8080/"
        },
        "id": "_1eYXKrSNvoD",
        "outputId": "ab3e593a-1396-44bd-833b-2009a5a41dff"
      },
      "execution_count": 8,
      "outputs": [
        {
          "output_type": "execute_result",
          "data": {
            "text/plain": [
              "[{'uid': 'gov.noaa.ncdc:C00861',\n",
              "  'mindate': '1750-02-01',\n",
              "  'maxdate': '2024-03-10',\n",
              "  'name': 'Daily Summaries',\n",
              "  'datacoverage': 1,\n",
              "  'id': 'GHCND'},\n",
              " {'uid': 'gov.noaa.ncdc:C00946',\n",
              "  'mindate': '1750-02-01',\n",
              "  'maxdate': '2024-02-01',\n",
              "  'name': 'Global Summary of the Month',\n",
              "  'datacoverage': 1,\n",
              "  'id': 'GSOM'},\n",
              " {'uid': 'gov.noaa.ncdc:C00947',\n",
              "  'mindate': '1763-01-01',\n",
              "  'maxdate': '2024-01-01',\n",
              "  'name': 'Global Summary of the Year',\n",
              "  'datacoverage': 1,\n",
              "  'id': 'GSOY'},\n",
              " {'uid': 'gov.noaa.ncdc:C00345',\n",
              "  'mindate': '1991-06-05',\n",
              "  'maxdate': '2024-03-11',\n",
              "  'name': 'Weather Radar (Level II)',\n",
              "  'datacoverage': 0.95,\n",
              "  'id': 'NEXRAD2'},\n",
              " {'uid': 'gov.noaa.ncdc:C00708',\n",
              "  'mindate': '1994-05-20',\n",
              "  'maxdate': '2024-03-09',\n",
              "  'name': 'Weather Radar (Level III)',\n",
              "  'datacoverage': 0.95,\n",
              "  'id': 'NEXRAD3'},\n",
              " {'uid': 'gov.noaa.ncdc:C00821',\n",
              "  'mindate': '2010-01-01',\n",
              "  'maxdate': '2010-01-01',\n",
              "  'name': 'Normals Annual/Seasonal',\n",
              "  'datacoverage': 1,\n",
              "  'id': 'NORMAL_ANN'},\n",
              " {'uid': 'gov.noaa.ncdc:C00823',\n",
              "  'mindate': '2010-01-01',\n",
              "  'maxdate': '2010-12-31',\n",
              "  'name': 'Normals Daily',\n",
              "  'datacoverage': 1,\n",
              "  'id': 'NORMAL_DLY'},\n",
              " {'uid': 'gov.noaa.ncdc:C00824',\n",
              "  'mindate': '2010-01-01',\n",
              "  'maxdate': '2010-12-31',\n",
              "  'name': 'Normals Hourly',\n",
              "  'datacoverage': 1,\n",
              "  'id': 'NORMAL_HLY'},\n",
              " {'uid': 'gov.noaa.ncdc:C00822',\n",
              "  'mindate': '2010-01-01',\n",
              "  'maxdate': '2010-12-01',\n",
              "  'name': 'Normals Monthly',\n",
              "  'datacoverage': 1,\n",
              "  'id': 'NORMAL_MLY'},\n",
              " {'uid': 'gov.noaa.ncdc:C00505',\n",
              "  'mindate': '1970-05-12',\n",
              "  'maxdate': '2014-01-01',\n",
              "  'name': 'Precipitation 15 Minute',\n",
              "  'datacoverage': 0.25,\n",
              "  'id': 'PRECIP_15'},\n",
              " {'uid': 'gov.noaa.ncdc:C00313',\n",
              "  'mindate': '1900-01-01',\n",
              "  'maxdate': '2014-01-01',\n",
              "  'name': 'Precipitation Hourly',\n",
              "  'datacoverage': 1,\n",
              "  'id': 'PRECIP_HLY'}]"
            ]
          },
          "metadata": {},
          "execution_count": 8
        }
      ]
    },
    {
      "cell_type": "code",
      "source": [
        "[(data['id'], data['name']) for data in response.json()['results']]\n",
        "#This is the parsed results"
      ],
      "metadata": {
        "colab": {
          "base_uri": "https://localhost:8080/"
        },
        "id": "OClK75yrNXyE",
        "outputId": "1af98dab-7e05-4257-e42a-165114571bad"
      },
      "execution_count": 7,
      "outputs": [
        {
          "output_type": "execute_result",
          "data": {
            "text/plain": [
              "[('GHCND', 'Daily Summaries'),\n",
              " ('GSOM', 'Global Summary of the Month'),\n",
              " ('GSOY', 'Global Summary of the Year'),\n",
              " ('NEXRAD2', 'Weather Radar (Level II)'),\n",
              " ('NEXRAD3', 'Weather Radar (Level III)'),\n",
              " ('NORMAL_ANN', 'Normals Annual/Seasonal'),\n",
              " ('NORMAL_DLY', 'Normals Daily'),\n",
              " ('NORMAL_HLY', 'Normals Hourly'),\n",
              " ('NORMAL_MLY', 'Normals Monthly'),\n",
              " ('PRECIP_15', 'Precipitation 15 Minute'),\n",
              " ('PRECIP_HLY', 'Precipitation Hourly')]"
            ]
          },
          "metadata": {},
          "execution_count": 7
        }
      ]
    },
    {
      "cell_type": "code",
      "source": [
        "#We get the data type for Id temp\n",
        "response = make_request(\n",
        " 'datatypes',\n",
        " payload={\n",
        " 'datacategoryid' : 'TEMP',\n",
        " 'limit' : 100\n",
        " }\n",
        ")\n",
        "response.status_code\n"
      ],
      "metadata": {
        "colab": {
          "base_uri": "https://localhost:8080/"
        },
        "id": "ukMW41fGOD30",
        "outputId": "592a4c03-4468-4d34-d991-a5dd608db0f2"
      },
      "execution_count": 21,
      "outputs": [
        {
          "output_type": "execute_result",
          "data": {
            "text/plain": [
              "200"
            ]
          },
          "metadata": {},
          "execution_count": 21
        }
      ]
    },
    {
      "cell_type": "code",
      "source": [
        "[(datatype['id'], datatype['name']) for datatype in response.json()['results']][-5:] # So dito same lang dun sa kanina but instead we get last 5 items ng id and name"
      ],
      "metadata": {
        "colab": {
          "base_uri": "https://localhost:8080/"
        },
        "id": "xSoWjTDwPMip",
        "outputId": "af3f4f9b-0d44-47fc-b1cc-ff4caf625291"
      },
      "execution_count": 22,
      "outputs": [
        {
          "output_type": "execute_result",
          "data": {
            "text/plain": [
              "[('MNTM', 'Monthly mean temperature'),\n",
              " ('TAVG', 'Average Temperature.'),\n",
              " ('TMAX', 'Maximum temperature'),\n",
              " ('TMIN', 'Minimum temperature'),\n",
              " ('TOBS', 'Temperature at the time of observation')]"
            ]
          },
          "metadata": {},
          "execution_count": 22
        }
      ]
    },
    {
      "cell_type": "markdown",
      "source": [
        "Next is location"
      ],
      "metadata": {
        "id": "j4X1BrThSjmB"
      }
    },
    {
      "cell_type": "code",
      "source": [
        "#Make another request for location\n",
        "response = make_request(\n",
        " 'locationcategories',\n",
        " {\n",
        " 'datasetid' : 'GHCND'\n",
        " }\n",
        ")\n",
        "response.status_code\n",
        "\n"
      ],
      "metadata": {
        "colab": {
          "base_uri": "https://localhost:8080/"
        },
        "id": "Hglt6aU2XqlL",
        "outputId": "ca7ceb3d-3027-4387-ea0f-ba8d4aeb8f4b"
      },
      "execution_count": 32,
      "outputs": [
        {
          "output_type": "execute_result",
          "data": {
            "text/plain": [
              "200"
            ]
          },
          "metadata": {},
          "execution_count": 32
        }
      ]
    },
    {
      "cell_type": "code",
      "source": [
        "import pprint\n",
        "pprint.pprint(response.json()['results'])"
      ],
      "metadata": {
        "colab": {
          "base_uri": "https://localhost:8080/"
        },
        "id": "ZJzdXpEbYWVx",
        "outputId": "4a8b2127-60a1-4f00-af27-5dc5cdc71d6d"
      },
      "execution_count": 27,
      "outputs": [
        {
          "output_type": "stream",
          "name": "stdout",
          "text": [
            "[{'id': 'CITY', 'name': 'City'},\n",
            " {'id': 'CLIM_DIV', 'name': 'Climate Division'},\n",
            " {'id': 'CLIM_REG', 'name': 'Climate Region'},\n",
            " {'id': 'CNTRY', 'name': 'Country'},\n",
            " {'id': 'CNTY', 'name': 'County'},\n",
            " {'id': 'HYD_ACC', 'name': 'Hydrologic Accounting Unit'},\n",
            " {'id': 'HYD_CAT', 'name': 'Hydrologic Cataloging Unit'},\n",
            " {'id': 'HYD_REG', 'name': 'Hydrologic Region'},\n",
            " {'id': 'HYD_SUB', 'name': 'Hydrologic Subregion'},\n",
            " {'id': 'ST', 'name': 'State'},\n",
            " {'id': 'US_TERR', 'name': 'US Territory'},\n",
            " {'id': 'ZIP', 'name': 'Zip Code'}]\n"
          ]
        }
      ]
    },
    {
      "cell_type": "code",
      "source": [
        "pprint.pprint(response.json()['results'][1])"
      ],
      "metadata": {
        "colab": {
          "base_uri": "https://localhost:8080/"
        },
        "id": "q7xf23npacVi",
        "outputId": "0809d1f1-35c7-4a84-b528-e64e838a3d10"
      },
      "execution_count": 31,
      "outputs": [
        {
          "output_type": "stream",
          "name": "stdout",
          "text": [
            "{'id': 'CLIM_DIV', 'name': 'Climate Division'}\n"
          ]
        }
      ]
    },
    {
      "cell_type": "markdown",
      "source": [
        "# GET NYC LOCATION USING BINARY SEARCH"
      ],
      "metadata": {
        "id": "CoqkZwB3a8JZ"
      }
    },
    {
      "cell_type": "code",
      "source": [
        "def get_item(name, what, endpoint, start = 1, end = None):\n",
        "  mid = (start + (end if end else 1))//2\n",
        "\n",
        "  name = name.lower()\n",
        "\n",
        "  payload = {\n",
        "      'datasetid' : 'GHCND',\n",
        "      'sortfield' : 'name',\n",
        "      'offset' : mid,\n",
        "      'limit' : 1\n",
        "  }\n",
        "\n",
        "  response = make_request(endpoint, {**payload, **what})\n",
        "\n",
        "  if response.ok:\n",
        "    end = end if end else response.json(['metadata']['resultset']['count'])\n",
        "\n",
        "    current_name = response.json()['results'][0]['name'].lower()\n",
        "\n",
        "    if name in current_name:\n",
        "      return response.json()['results'][0]\n",
        "    else:\n",
        "      if start >= end:\n",
        "        return {}\n",
        "      elif name < current_name:\n",
        "        return get_item(name,what,endpoint,start,mid-1)\n",
        "      elif name > current_name:\n",
        "        return get_item(name, what, endpoint, mid + 1, end)\n",
        "  else:\n",
        "    print(f'Response not OK, status: {response.status_code}')\n",
        "\n",
        "def get_location(name):\n",
        "  return get_item(name, {'locationcategoryid' : 'CITY'}, 'locations')"
      ],
      "metadata": {
        "colab": {
          "base_uri": "https://localhost:8080/"
        },
        "id": "SnuZVjI7bPjQ",
        "outputId": "be239161-94ac-433b-ef11-b2baf9662e8e"
      },
      "execution_count": 33,
      "outputs": [
        {
          "output_type": "stream",
          "name": "stderr",
          "text": [
            "<>:16: SyntaxWarning: list indices must be integers or slices, not str; perhaps you missed a comma?\n",
            "<>:16: SyntaxWarning: list indices must be integers or slices, not str; perhaps you missed a comma?\n",
            "<ipython-input-33-331664393da4>:16: SyntaxWarning: list indices must be integers or slices, not str; perhaps you missed a comma?\n",
            "  end = end if end else response.json(['metadata']['resultset']['count'])\n"
          ]
        }
      ]
    },
    {
      "cell_type": "code",
      "source": [
        "#Find NYC\n",
        "nyc = get_location('New York')\n",
        "nyc\n"
      ],
      "metadata": {
        "colab": {
          "base_uri": "https://localhost:8080/",
          "height": 339
        },
        "id": "j1dXp6iLd0WG",
        "outputId": "8f8190b9-7449-4afa-d255-92acb7ea136d"
      },
      "execution_count": 34,
      "outputs": [
        {
          "output_type": "error",
          "ename": "TypeError",
          "evalue": "list indices must be integers or slices, not str",
          "traceback": [
            "\u001b[0;31m---------------------------------------------------------------------------\u001b[0m",
            "\u001b[0;31mTypeError\u001b[0m                                 Traceback (most recent call last)",
            "\u001b[0;32m<ipython-input-34-e71ca04a2966>\u001b[0m in \u001b[0;36m<cell line: 2>\u001b[0;34m()\u001b[0m\n\u001b[1;32m      1\u001b[0m \u001b[0;31m#Find NYC\u001b[0m\u001b[0;34m\u001b[0m\u001b[0;34m\u001b[0m\u001b[0m\n\u001b[0;32m----> 2\u001b[0;31m \u001b[0mnyc\u001b[0m \u001b[0;34m=\u001b[0m \u001b[0mget_location\u001b[0m\u001b[0;34m(\u001b[0m\u001b[0;34m'New York'\u001b[0m\u001b[0;34m)\u001b[0m\u001b[0;34m\u001b[0m\u001b[0;34m\u001b[0m\u001b[0m\n\u001b[0m\u001b[1;32m      3\u001b[0m \u001b[0mnyc\u001b[0m\u001b[0;34m\u001b[0m\u001b[0;34m\u001b[0m\u001b[0m\n",
            "\u001b[0;32m<ipython-input-33-331664393da4>\u001b[0m in \u001b[0;36mget_location\u001b[0;34m(name)\u001b[0m\n\u001b[1;32m     31\u001b[0m \u001b[0;34m\u001b[0m\u001b[0m\n\u001b[1;32m     32\u001b[0m \u001b[0;32mdef\u001b[0m \u001b[0mget_location\u001b[0m\u001b[0;34m(\u001b[0m\u001b[0mname\u001b[0m\u001b[0;34m)\u001b[0m\u001b[0;34m:\u001b[0m\u001b[0;34m\u001b[0m\u001b[0;34m\u001b[0m\u001b[0m\n\u001b[0;32m---> 33\u001b[0;31m   \u001b[0;32mreturn\u001b[0m \u001b[0mget_item\u001b[0m\u001b[0;34m(\u001b[0m\u001b[0mname\u001b[0m\u001b[0;34m,\u001b[0m \u001b[0;34m{\u001b[0m\u001b[0;34m'locationcategoryid'\u001b[0m \u001b[0;34m:\u001b[0m \u001b[0;34m'CITY'\u001b[0m\u001b[0;34m}\u001b[0m\u001b[0;34m,\u001b[0m \u001b[0;34m'locations'\u001b[0m\u001b[0;34m)\u001b[0m\u001b[0;34m\u001b[0m\u001b[0;34m\u001b[0m\u001b[0m\n\u001b[0m",
            "\u001b[0;32m<ipython-input-33-331664393da4>\u001b[0m in \u001b[0;36mget_item\u001b[0;34m(name, what, endpoint, start, end)\u001b[0m\n\u001b[1;32m     14\u001b[0m \u001b[0;34m\u001b[0m\u001b[0m\n\u001b[1;32m     15\u001b[0m   \u001b[0;32mif\u001b[0m \u001b[0mresponse\u001b[0m\u001b[0;34m.\u001b[0m\u001b[0mok\u001b[0m\u001b[0;34m:\u001b[0m\u001b[0;34m\u001b[0m\u001b[0;34m\u001b[0m\u001b[0m\n\u001b[0;32m---> 16\u001b[0;31m     \u001b[0mend\u001b[0m \u001b[0;34m=\u001b[0m \u001b[0mend\u001b[0m \u001b[0;32mif\u001b[0m \u001b[0mend\u001b[0m \u001b[0;32melse\u001b[0m \u001b[0mresponse\u001b[0m\u001b[0;34m.\u001b[0m\u001b[0mjson\u001b[0m\u001b[0;34m(\u001b[0m\u001b[0;34m[\u001b[0m\u001b[0;34m'metadata'\u001b[0m\u001b[0;34m]\u001b[0m\u001b[0;34m[\u001b[0m\u001b[0;34m'resultset'\u001b[0m\u001b[0;34m]\u001b[0m\u001b[0;34m[\u001b[0m\u001b[0;34m'count'\u001b[0m\u001b[0;34m]\u001b[0m\u001b[0;34m)\u001b[0m\u001b[0;34m\u001b[0m\u001b[0;34m\u001b[0m\u001b[0m\n\u001b[0m\u001b[1;32m     17\u001b[0m \u001b[0;34m\u001b[0m\u001b[0m\n\u001b[1;32m     18\u001b[0m     \u001b[0mcurrent_name\u001b[0m \u001b[0;34m=\u001b[0m \u001b[0mresponse\u001b[0m\u001b[0;34m.\u001b[0m\u001b[0mjson\u001b[0m\u001b[0;34m(\u001b[0m\u001b[0;34m)\u001b[0m\u001b[0;34m[\u001b[0m\u001b[0;34m'results'\u001b[0m\u001b[0;34m]\u001b[0m\u001b[0;34m[\u001b[0m\u001b[0;36m0\u001b[0m\u001b[0;34m]\u001b[0m\u001b[0;34m[\u001b[0m\u001b[0;34m'name'\u001b[0m\u001b[0;34m]\u001b[0m\u001b[0;34m.\u001b[0m\u001b[0mlower\u001b[0m\u001b[0;34m(\u001b[0m\u001b[0;34m)\u001b[0m\u001b[0;34m\u001b[0m\u001b[0;34m\u001b[0m\u001b[0m\n",
            "\u001b[0;31mTypeError\u001b[0m: list indices must be integers or slices, not str"
          ]
        }
      ]
    }
  ]
}