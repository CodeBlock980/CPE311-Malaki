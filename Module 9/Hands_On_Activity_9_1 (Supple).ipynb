{
 "cells": [
  {
   "cell_type": "markdown",
   "metadata": {},
   "source": [
    "# **Data Visualization using Pandas and Matplotlib**\n"
   ]
  },
  {
   "cell_type": "markdown",
   "metadata": {},
   "source": [
    "# Supplementary Activity\n",
    "\n",
    "Using the CSV files provided and what we have learned so far in this module complete the following exercises:\n",
    "\n",
    "Plot the rolling 20-day minimum of the Facebook closing price with the pandas plot() method.\n",
    "\n",
    "Create a histogram and KDE of the change from open to close in the price of Facebook stock.\n",
    "\n",
    "Using the earthquake data, create box plots for the magnitudes of each magType used in Indonesia.\n",
    "\n",
    "Make a line plot of the difference between the weekly maximum high price and the weekly minimum low price for Facebook. This should be a single\n",
    "line.\n",
    "\n",
    "Using matplotlib and pandas, create two subplots side-by-side showing the effect that after-hours trading has had on Facebook's stock price:\n",
    "\n",
    "The first subplot will contain a line plot of the daily difference between that day's opening price and the prior day's closing price (be sure to review the Time series section of Aggregating Pandas DataFrames for an easy way to do this).\n",
    "\n",
    "The second subplot will be a bar plot showing the net effect this had monthly, using resample().\n",
    "\n",
    "Bonus #1: Color the bars according to whether they are gains in the stock price (green) or drops in the stock price (red).\n",
    "\n",
    "Bonus #2: Modify the x-axis of the bar plot to show the threeletter abbreviation for the month."
   ]
  },
  {
   "cell_type": "code",
   "execution_count": 6,
   "metadata": {},
   "outputs": [],
   "source": [
    "import pandas as pd\n",
    "import matplotlib.pyplot as plt\n",
    "import numpy as np\n",
    "\n",
    "%matplotlib inline"
   ]
  },
  {
   "cell_type": "code",
   "execution_count": 22,
   "metadata": {},
   "outputs": [
    {
     "data": {
      "text/html": [
       "<div>\n",
       "<style scoped>\n",
       "    .dataframe tbody tr th:only-of-type {\n",
       "        vertical-align: middle;\n",
       "    }\n",
       "\n",
       "    .dataframe tbody tr th {\n",
       "        vertical-align: top;\n",
       "    }\n",
       "\n",
       "    .dataframe thead th {\n",
       "        text-align: right;\n",
       "    }\n",
       "</style>\n",
       "<table border=\"1\" class=\"dataframe\">\n",
       "  <thead>\n",
       "    <tr style=\"text-align: right;\">\n",
       "      <th></th>\n",
       "      <th>open</th>\n",
       "      <th>high</th>\n",
       "      <th>low</th>\n",
       "      <th>close</th>\n",
       "      <th>volume</th>\n",
       "    </tr>\n",
       "    <tr>\n",
       "      <th>date</th>\n",
       "      <th></th>\n",
       "      <th></th>\n",
       "      <th></th>\n",
       "      <th></th>\n",
       "      <th></th>\n",
       "    </tr>\n",
       "  </thead>\n",
       "  <tbody>\n",
       "    <tr>\n",
       "      <th>2018-01-02</th>\n",
       "      <td>177.68</td>\n",
       "      <td>181.58</td>\n",
       "      <td>177.5500</td>\n",
       "      <td>181.42</td>\n",
       "      <td>18151903</td>\n",
       "    </tr>\n",
       "    <tr>\n",
       "      <th>2018-01-03</th>\n",
       "      <td>181.88</td>\n",
       "      <td>184.78</td>\n",
       "      <td>181.3300</td>\n",
       "      <td>184.67</td>\n",
       "      <td>16886563</td>\n",
       "    </tr>\n",
       "    <tr>\n",
       "      <th>2018-01-04</th>\n",
       "      <td>184.90</td>\n",
       "      <td>186.21</td>\n",
       "      <td>184.0996</td>\n",
       "      <td>184.33</td>\n",
       "      <td>13880896</td>\n",
       "    </tr>\n",
       "    <tr>\n",
       "      <th>2018-01-05</th>\n",
       "      <td>185.59</td>\n",
       "      <td>186.90</td>\n",
       "      <td>184.9300</td>\n",
       "      <td>186.85</td>\n",
       "      <td>13574535</td>\n",
       "    </tr>\n",
       "    <tr>\n",
       "      <th>2018-01-08</th>\n",
       "      <td>187.20</td>\n",
       "      <td>188.90</td>\n",
       "      <td>186.3300</td>\n",
       "      <td>188.28</td>\n",
       "      <td>17994726</td>\n",
       "    </tr>\n",
       "    <tr>\n",
       "      <th>...</th>\n",
       "      <td>...</td>\n",
       "      <td>...</td>\n",
       "      <td>...</td>\n",
       "      <td>...</td>\n",
       "      <td>...</td>\n",
       "    </tr>\n",
       "    <tr>\n",
       "      <th>2018-12-24</th>\n",
       "      <td>123.10</td>\n",
       "      <td>129.74</td>\n",
       "      <td>123.0200</td>\n",
       "      <td>124.06</td>\n",
       "      <td>22066002</td>\n",
       "    </tr>\n",
       "    <tr>\n",
       "      <th>2018-12-26</th>\n",
       "      <td>126.00</td>\n",
       "      <td>134.24</td>\n",
       "      <td>125.8900</td>\n",
       "      <td>134.18</td>\n",
       "      <td>39723370</td>\n",
       "    </tr>\n",
       "    <tr>\n",
       "      <th>2018-12-27</th>\n",
       "      <td>132.44</td>\n",
       "      <td>134.99</td>\n",
       "      <td>129.6700</td>\n",
       "      <td>134.52</td>\n",
       "      <td>31202509</td>\n",
       "    </tr>\n",
       "    <tr>\n",
       "      <th>2018-12-28</th>\n",
       "      <td>135.34</td>\n",
       "      <td>135.92</td>\n",
       "      <td>132.2000</td>\n",
       "      <td>133.20</td>\n",
       "      <td>22627569</td>\n",
       "    </tr>\n",
       "    <tr>\n",
       "      <th>2018-12-31</th>\n",
       "      <td>134.45</td>\n",
       "      <td>134.64</td>\n",
       "      <td>129.9500</td>\n",
       "      <td>131.09</td>\n",
       "      <td>24625308</td>\n",
       "    </tr>\n",
       "  </tbody>\n",
       "</table>\n",
       "<p>251 rows × 5 columns</p>\n",
       "</div>"
      ],
      "text/plain": [
       "              open    high       low   close    volume\n",
       "date                                                  \n",
       "2018-01-02  177.68  181.58  177.5500  181.42  18151903\n",
       "2018-01-03  181.88  184.78  181.3300  184.67  16886563\n",
       "2018-01-04  184.90  186.21  184.0996  184.33  13880896\n",
       "2018-01-05  185.59  186.90  184.9300  186.85  13574535\n",
       "2018-01-08  187.20  188.90  186.3300  188.28  17994726\n",
       "...            ...     ...       ...     ...       ...\n",
       "2018-12-24  123.10  129.74  123.0200  124.06  22066002\n",
       "2018-12-26  126.00  134.24  125.8900  134.18  39723370\n",
       "2018-12-27  132.44  134.99  129.6700  134.52  31202509\n",
       "2018-12-28  135.34  135.92  132.2000  133.20  22627569\n",
       "2018-12-31  134.45  134.64  129.9500  131.09  24625308\n",
       "\n",
       "[251 rows x 5 columns]"
      ]
     },
     "execution_count": 22,
     "metadata": {},
     "output_type": "execute_result"
    }
   ],
   "source": [
    "fb = pd.read_csv('fb_stock_prices_2018.csv', index_col= 'date', parse_dates=True)\n",
    "fb"
   ]
  },
  {
   "cell_type": "markdown",
   "metadata": {},
   "source": [
    "1. Plotting the 20 Day minimum of the closing price of Facebook"
   ]
  },
  {
   "cell_type": "code",
   "execution_count": 26,
   "metadata": {},
   "outputs": [],
   "source": [
    "closeRoll = fb['close'].rolling(window=20).min()"
   ]
  },
  {
   "cell_type": "code",
   "execution_count": 27,
   "metadata": {},
   "outputs": [
    {
     "data": {
      "text/plain": [
       "<Axes: title={'center': 'Plot for rolling 20-Day minimum of the closing price of Facebook'}, xlabel='date', ylabel='closing'>"
      ]
     },
     "execution_count": 27,
     "metadata": {},
     "output_type": "execute_result"
    },
    {
     "data": {
      "image/png": "[encoded data removed]",
      "text/plain": [
       "<Figure size 640x480 with 1 Axes>"
      ]
     },
     "metadata": {},
     "output_type": "display_data"
    }
   ],
   "source": [
    "closeRoll.plot(y= 'close',title= 'Plot for rolling 20-Day minimum of the closing price of Facebook', xlabel='date', ylabel= 'closing')\n"
   ]
  },
  {
   "cell_type": "markdown",
   "metadata": {},
   "source": [
    "2. Create a histogram and a KDE of the change from open to close in the price of facebook price"
   ]
  },
  {
   "cell_type": "code",
   "execution_count": null,
   "metadata": {},
   "outputs": [],
   "source": [
    "fb['priceChange'] = fb['open'] - fb['close']"
   ]
  },
  {
   "cell_type": "markdown",
   "metadata": {},
   "source": [
    "# **Conclusions and Summary**"
   ]
  },
  {
   "cell_type": "markdown",
   "metadata": {},
   "source": []
  }
 ],
 "metadata": {
  "kernelspec": {
   "display_name": ".venv",
   "language": "python",
   "name": "python3"
  },
  "language_info": {
   "codemirror_mode": {
    "name": "ipython",
    "version": 3
   },
   "file_extension": ".py",
   "mimetype": "text/x-python",
   "name": "python",
   "nbconvert_exporter": "python",
   "pygments_lexer": "ipython3",
   "version": "3.12.1"
  }
 },
 "nbformat": 4,
 "nbformat_minor": 2
}
