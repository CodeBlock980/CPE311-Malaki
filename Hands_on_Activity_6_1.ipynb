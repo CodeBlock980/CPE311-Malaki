{
  "nbformat": 4,
  "nbformat_minor": 0,
  "metadata": {
    "colab": {
      "provenance": []
    },
    "kernelspec": {
      "name": "python3",
      "display_name": "Python 3"
    },
    "language_info": {
      "name": "python"
    }
  },
  "cells": [
    {
      "cell_type": "markdown",
      "source": [
        "# Supplementary Exercises"
      ],
      "metadata": {
        "id": "0i5tyRg0NcbK"
      }
    },
    {
      "cell_type": "code",
      "execution_count": 2,
      "metadata": {
        "colab": {
          "base_uri": "https://localhost:8080/"
        },
        "id": "WooswN_rM8DL",
        "outputId": "3de2739a-d88c-4aef-f404-d93de499065f"
      },
      "outputs": [
        {
          "output_type": "stream",
          "name": "stdout",
          "text": [
            "[844000.0, 758000.0, 421000.0, 259000.0, 511000.0, 405000.0, 784000.0, 303000.0, 477000.0, 583000.0, 908000.0, 505000.0, 282000.0, 756000.0, 618000.0, 251000.0, 910000.0, 983000.0, 810000.0, 902000.0, 310000.0, 730000.0, 899000.0, 684000.0, 472000.0, 101000.0, 434000.0, 611000.0, 913000.0, 967000.0, 477000.0, 865000.0, 260000.0, 805000.0, 549000.0, 14000.0, 720000.0, 399000.0, 825000.0, 668000.0, 1000.0, 494000.0, 868000.0, 244000.0, 325000.0, 870000.0, 191000.0, 568000.0, 239000.0, 968000.0, 803000.0, 448000.0, 80000.0, 320000.0, 508000.0, 933000.0, 109000.0, 551000.0, 707000.0, 547000.0, 814000.0, 540000.0, 964000.0, 603000.0, 588000.0, 445000.0, 596000.0, 385000.0, 576000.0, 290000.0, 189000.0, 187000.0, 613000.0, 657000.0, 477000.0, 90000.0, 758000.0, 877000.0, 923000.0, 842000.0, 898000.0, 923000.0, 541000.0, 391000.0, 705000.0, 276000.0, 812000.0, 849000.0, 895000.0, 590000.0, 950000.0, 580000.0, 451000.0, 660000.0, 996000.0, 917000.0, 793000.0, 82000.0, 613000.0, 486000.0]\n"
          ]
        }
      ],
      "source": [
        "import random\n",
        "\n",
        "random.seed(0)\n",
        "\n",
        "salaries = [round(random.random() * 1000000, -3) for _ in range(100)]\n",
        "\n",
        "print(salaries)"
      ]
    },
    {
      "cell_type": "markdown",
      "source": [
        "# Calculating for Mean"
      ],
      "metadata": {
        "id": "OLUzzArvQLjQ"
      }
    },
    {
      "cell_type": "code",
      "source": [
        "#Compute for mean without imports\n",
        "\n",
        "def meanCal(salaries):\n",
        "  mean = (sum(salaries)/len(salaries))\n",
        "  return mean\n",
        "\n",
        "print(\"The Mean is:\",meanCal(salaries))\n",
        "\n"
      ],
      "metadata": {
        "colab": {
          "base_uri": "https://localhost:8080/"
        },
        "id": "Rfg19o17OeAS",
        "outputId": "a92e9132-a801-4071-af42-f761da17ca9f"
      },
      "execution_count": 80,
      "outputs": [
        {
          "output_type": "stream",
          "name": "stdout",
          "text": [
            "The Mean is: 585690.0\n"
          ]
        }
      ]
    },
    {
      "cell_type": "code",
      "source": [
        "#Compute for mean with import\n",
        "\n",
        "import statistics as stat\n",
        "\n",
        "def meanCal(salaries):\n",
        "  mean = stat.mean(salaries)\n",
        "  return mean\n",
        "\n",
        "print(\"The Mean is:\",meanCal(salaries))\n",
        "\n"
      ],
      "metadata": {
        "colab": {
          "base_uri": "https://localhost:8080/"
        },
        "id": "EjIz5npEPlqo",
        "outputId": "2d8f0931-1ac7-4882-91df-be0e3d003db7"
      },
      "execution_count": 79,
      "outputs": [
        {
          "output_type": "stream",
          "name": "stdout",
          "text": [
            "The Mean is: 585690.0\n"
          ]
        }
      ]
    },
    {
      "cell_type": "markdown",
      "source": [
        "# Calculating for Median"
      ],
      "metadata": {
        "id": "oUf9hpBNNcDL"
      }
    },
    {
      "cell_type": "code",
      "source": [
        "#Compute for median without import\n",
        "\n",
        "def medianCal(salaries):\n",
        "  sortedTable = sorted(salaries)\n",
        "  n = len(sortedTable)\n",
        "  midVal = round(((n/2) + 1))\n",
        "\n",
        "  return (sortedTable[midVal-1] + sortedTable[midVal - 2])/2\n",
        "\n",
        "print(\"The Median is:\",medianCal(salaries))\n",
        "\n",
        "\n",
        "\n"
      ],
      "metadata": {
        "colab": {
          "base_uri": "https://localhost:8080/"
        },
        "id": "DpjutjBAQa5K",
        "outputId": "ea57a4f7-06c3-4eb2-b720-b2378c708f09"
      },
      "execution_count": 77,
      "outputs": [
        {
          "output_type": "stream",
          "name": "stdout",
          "text": [
            "The Median is: 589000.0\n"
          ]
        }
      ]
    },
    {
      "cell_type": "code",
      "source": [
        "#Compute for median with import\n",
        "\n",
        "def medianCal(salaries):\n",
        "  sortedTable = sorted(salaries)\n",
        "  median = stat.median(sortedTable)\n",
        "  return median\n",
        "print(\"The Median is:\",medianCal(salaries))\n",
        "\n",
        "\n",
        "\n"
      ],
      "metadata": {
        "colab": {
          "base_uri": "https://localhost:8080/"
        },
        "id": "wP9F33KdTQHD",
        "outputId": "a8723604-fc10-4ed2-9f7d-095d21765b99"
      },
      "execution_count": 78,
      "outputs": [
        {
          "output_type": "stream",
          "name": "stdout",
          "text": [
            "The Median is: 589000.0\n"
          ]
        }
      ]
    },
    {
      "cell_type": "markdown",
      "source": [
        "# Calculating for Mode"
      ],
      "metadata": {
        "id": "EzuK8sdGfoPs"
      }
    },
    {
      "cell_type": "code",
      "source": [
        "#Grouped\n",
        "\n",
        "\n"
      ],
      "metadata": {
        "id": "1zgI8AQLfnzU"
      },
      "execution_count": null,
      "outputs": []
    },
    {
      "cell_type": "code",
      "source": [
        "#Ungrouped (maybe try bottom-up approach??)\n",
        "\n",
        "def modeCal(salaries):\n",
        "\n",
        "\n",
        "  pass\n",
        "\n",
        "\n",
        "\n",
        "\n",
        "\n",
        "\n",
        "print(modeCal(salaries))\n",
        "\n",
        "\n"
      ],
      "metadata": {
        "colab": {
          "base_uri": "https://localhost:8080/"
        },
        "id": "wOcWRuX1hVlx",
        "outputId": "9a214b2e-1925-4844-f8c4-f0e029da315e"
      },
      "execution_count": 82,
      "outputs": [
        {
          "output_type": "stream",
          "name": "stdout",
          "text": [
            "1\n"
          ]
        }
      ]
    }
  ]
}